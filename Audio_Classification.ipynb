{
 "cells": [
  {
   "cell_type": "markdown",
   "metadata": {},
   "source": [
    "# IMPORTS"
   ]
  },
  {
   "cell_type": "code",
   "execution_count": null,
   "metadata": {},
   "outputs": [],
   "source": [
    "import pandas as pd\n",
    "import numpy as np\n",
    "\n",
    "from sklearn.model_selection import train_test_split\n",
    "from sklearn.metrics import accuracy_score\n",
    "from sklearn.feature_selection import SelectFromModel\n",
    "from sklearn.metrics import confusion_matrix"
   ]
  },
  {
   "cell_type": "markdown",
   "metadata": {},
   "source": [
    "# HELPER FUNCTIONS"
   ]
  },
  {
   "cell_type": "code",
   "execution_count": null,
   "metadata": {},
   "outputs": [],
   "source": []
  },
  {
   "cell_type": "markdown",
   "metadata": {},
   "source": [
    "# LOAD DATA"
   ]
  },
  {
   "cell_type": "code",
   "execution_count": null,
   "metadata": {},
   "outputs": [],
   "source": [
    "df = pd.read_csv('/home/ozge/Masaüstü/arçelik/newfilename/data6.csv')\n",
    "df = df.drop(df.columns[0], axis='columns')\n",
    "df.head()"
   ]
  },
  {
   "cell_type": "markdown",
   "metadata": {},
   "source": [
    "# MERGE DATASETS"
   ]
  },
  {
   "cell_type": "code",
   "execution_count": null,
   "metadata": {},
   "outputs": [],
   "source": [
    "df_1 = pd.read_csv('data5.csv')\n",
    "df_2 = pd.read_csv('data3.csv')\n",
    "\n",
    "df = pd.merge(df_1, df_2, on=['ID', 'Class'])\n",
    "df = df.drop(df.columns[0], axis='columns')\n",
    "df = df.drop(df.columns[28], axis='columns')\n",
    "df.head()"
   ]
  },
  {
   "cell_type": "code",
   "execution_count": null,
   "metadata": {},
   "outputs": [],
   "source": [
    "#DATA1\n",
    "#Xs = df[['mf0', 'mf1', 'mf2', 'mf3','mf4', 'mf5', 'mf6', 'mf7', 'mf8', 'mf9', 'mf10', 'mf11', 'mf12']]\n",
    "#ys = df['Class']\n",
    "\n",
    "#DATA2\n",
    "#Xs = df[['ch0', 'ch1', 'ch2', 'ch3','ch4', 'ch5', 'ch6', 'ch7', 'ch8', 'ch9', 'ch10', 'ch11']]\n",
    "#ys = df['Class']\n",
    "\n",
    "#DATA3\n",
    "#Xs = df[['cnt0', 'cnt1', 'cnt2', 'cnt3','cnt4', 'cnt5', 'cnt6']]\n",
    "#ys = df['Class']\n",
    "\n",
    "#DATA1&3\n",
    "#Xs = df[['cnt0', 'cnt1', 'cnt2', 'cnt3','cnt4', 'cnt5', 'cnt6', 'mf0', 'mf1', 'mf2', 'mf3','mf4', 'mf5', 'mf6', 'mf7', 'mf8', 'mf9', 'mf10', 'mf11', 'mf12']]\n",
    "#ys = df['Class']\n",
    "\n",
    "#DATA4\n",
    "#Xs = df[['tz0', 'tz1', 'tz2', 'tz3','tz4', 'tz5']]\n",
    "#ys = df['Class']\n",
    "\n",
    "#DATA5\n",
    "#Xs = df[['mf0', 'mf1', 'mf2', 'mf3','mf4', 'mf5', 'mf6', 'mf7', 'mf8', 'mf9', 'mf10', 'mf11', 'mf12','mfd0', 'mfd1', 'mfd2', 'mfd3','mfd4', 'mfd5', 'mfd6', 'mfd7', 'mfd8', 'mfd9', 'mfd10', 'mfd11', 'mfd12']]\n",
    "#ys = df['Class']\n",
    "\n",
    "#DATA6\n",
    "Xs = df[['che0', 'che1', 'che2', 'che3','che4', 'che5', 'che6', 'che7', 'che8', 'che9', 'che10', 'che11']]\n",
    "ys = df['Class']\n",
    "\n",
    "#DATA7\n",
    "#Xs = df[['cnt2_0', 'cnt2_1', 'cnt2_2', 'cnt2_3','cnt2_4', 'cnt2_5', 'cnt2_6']]\n",
    "#ys = df['Class']\n",
    "\n",
    "\n",
    "X_train, X_test, y_train, y_test = train_test_split(Xs, ys, test_size=0.33)"
   ]
  },
  {
   "cell_type": "markdown",
   "metadata": {},
   "source": [
    "# CLASSIFICATION"
   ]
  },
  {
   "cell_type": "markdown",
   "metadata": {},
   "source": [
    "### LDA (Linear Discriminant Analysis)"
   ]
  },
  {
   "cell_type": "code",
   "execution_count": null,
   "metadata": {},
   "outputs": [],
   "source": [
    "from sklearn.discriminant_analysis import LinearDiscriminantAnalysis\n",
    "\n",
    "from sklearn.metrics import confusion_matrix \n",
    "from sklearn.metrics import accuracy_score \n",
    "from sklearn.metrics import classification_report \n",
    "\n",
    "X = X_train\n",
    "y = y_train\n",
    "clf1 = LinearDiscriminantAnalysis()\n",
    "actual = clf1.fit(X, y)  \n",
    "LinearDiscriminantAnalysis(n_components=None, priors=None, shrinkage=None,\n",
    "              solver='svd', store_covariance=False, tol=0.0001)\n",
    "\n",
    "\n",
    "predicted = clf1.predict(X_test)\n",
    "print(clf1.score(X_test, y_test))\n",
    "\n",
    "results = confusion_matrix(clf1.fit(X, y) , clf1.predict(X_test))"
   ]
  },
  {
   "cell_type": "markdown",
   "metadata": {},
   "source": [
    "### SVM (Support Vectors Machine) SVC"
   ]
  },
  {
   "cell_type": "code",
   "execution_count": null,
   "metadata": {},
   "outputs": [],
   "source": [
    "from sklearn import svm\n",
    "from sklearn.svm import SVC\n",
    "\n",
    "X = X_train\n",
    "y = y_train\n",
    "\n",
    "clf2 = svm.SVC(gamma='scale', decision_function_shape='ovo')\n",
    "clf2.fit(X, y) \n",
    "SVC(C=1.0, cache_size=200, class_weight=None, coef0=0.0,\n",
    "    decision_function_shape='ovo', degree=3, gamma='scale', kernel='rbf',\n",
    "    max_iter=-1, probability=False, random_state=None, shrinking=True,\n",
    "    tol=0.001, verbose=False)\n",
    "\n",
    "clf2.predict(X_test)\n",
    "print(clf2.score(X_test, y_test))"
   ]
  },
  {
   "cell_type": "markdown",
   "metadata": {},
   "source": [
    "### Naive Bayes (Gaussian)"
   ]
  },
  {
   "cell_type": "code",
   "execution_count": null,
   "metadata": {},
   "outputs": [],
   "source": [
    "from sklearn.naive_bayes import GaussianNB\n",
    "\n",
    "gnb = GaussianNB()\n",
    "y_pred = gnb.fit(Xs, ys).predict(Xs)\n",
    "print(\"Number of mislabeled points out of a total %d points : %d\" % (Xs.shape[0],(ys != y_pred).sum()))\n",
    "print(\"Accuracy: \", 100 - (    (ys != y_pred).sum() * 100.0    /  Xs.shape[0]  )   )\n"
   ]
  },
  {
   "cell_type": "markdown",
   "metadata": {},
   "source": [
    "### Decision Tree"
   ]
  },
  {
   "cell_type": "code",
   "execution_count": null,
   "metadata": {},
   "outputs": [],
   "source": [
    "from sklearn import tree\n",
    "\n",
    "X = X_train\n",
    "y= y_train\n",
    "clf4 = tree.DecisionTreeClassifier()\n",
    "clf4 = clf4.fit(X, y)\n",
    "\n",
    "clf4.predict(X_test)\n",
    "print(clf4.score(X_test, y_test))"
   ]
  }
 ],
 "metadata": {
  "kernelspec": {
   "display_name": "Python 3",
   "language": "python",
   "name": "python3"
  },
  "language_info": {
   "codemirror_mode": {
    "name": "ipython",
    "version": 3
   },
   "file_extension": ".py",
   "mimetype": "text/x-python",
   "name": "python",
   "nbconvert_exporter": "python",
   "pygments_lexer": "ipython3",
   "version": "3.6.8"
  }
 },
 "nbformat": 4,
 "nbformat_minor": 2
}

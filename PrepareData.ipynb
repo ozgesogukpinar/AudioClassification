{
 "cells": [
  {
   "cell_type": "markdown",
   "metadata": {},
   "source": [
    "# IMPORTS"
   ]
  },
  {
   "cell_type": "code",
   "execution_count": 2,
   "metadata": {},
   "outputs": [],
   "source": [
    "import sys\n",
    "import os\n",
    "import pandas as pd\n",
    "import librosa\n",
    "import glob \n",
    "import IPython.display as ipd\n",
    "import numpy as np\n",
    "\n",
    "# Shows the full output when printing.\n",
    "np.set_printoptions(threshold=sys.maxsize)"
   ]
  },
  {
   "cell_type": "markdown",
   "metadata": {},
   "source": [
    "# FUNCTIONS"
   ]
  },
  {
   "cell_type": "code",
   "execution_count": 5,
   "metadata": {
    "scrolled": false
   },
   "outputs": [
    {
     "data": {
      "text/plain": [
       "array([3.0467138e-02, 6.6514455e-02, 1.2975712e-01, 1.8463852e-01,\n",
       "       2.0326297e-01, 1.7165220e-01, 5.7269998e-02, 3.3887785e-02,\n",
       "       1.1187534e-02, 5.5428091e-03, 2.1257550e-03, 1.3830543e-03,\n",
       "       1.3173126e-03, 1.2940229e-03, 1.4538580e-03, 1.9320415e-03,\n",
       "       1.6374536e-03, 2.8306972e-03, 3.7263299e-03, 4.6027224e-03,\n",
       "       4.4718189e-03, 4.4952617e-03, 4.8748916e-03, 5.0396402e-03,\n",
       "       4.2392584e-03, 3.4790228e-03, 2.5583527e-03, 2.6267054e-03,\n",
       "       2.6269690e-03, 3.0156286e-03, 2.5235778e-03, 1.9786160e-03,\n",
       "       1.6217536e-03, 1.4472012e-03, 1.9256225e-03, 2.2438720e-03,\n",
       "       2.2009271e-03, 2.1543188e-03, 1.9879972e-03, 1.9449224e-03,\n",
       "       1.7509160e-03, 1.6389511e-03, 1.3494069e-03, 1.2019629e-03,\n",
       "       1.0201766e-03, 7.1753585e-04, 5.2781985e-04, 4.9962889e-04,\n",
       "       4.6755283e-04, 4.7129820e-04, 4.4579196e-04, 3.8971132e-04,\n",
       "       3.1632924e-04, 3.4611195e-04, 3.6459800e-04, 3.6843232e-04,\n",
       "       3.8551830e-04, 4.6951248e-04, 6.8014447e-04, 9.9125563e-04,\n",
       "       1.2306364e-03, 1.5631268e-03, 1.7159577e-03, 1.8266503e-03,\n",
       "       1.7168905e-03, 1.3282062e-03, 1.2033788e-03, 9.7151776e-04,\n",
       "       9.9906151e-04, 8.6913444e-04, 8.4649824e-04, 7.9479889e-04,\n",
       "       7.5520080e-04, 6.1603176e-04, 4.6525523e-04, 5.0381396e-04,\n",
       "       7.3019409e-04, 1.8089792e-03, 2.7947361e-03, 3.5911959e-03,\n",
       "       3.8166770e-03, 3.2636197e-03, 1.8406736e-03, 1.9030643e-03,\n",
       "       3.7706175e-03, 4.5727510e-03, 4.5722891e-03, 4.0445812e-03,\n",
       "       2.8948633e-03, 2.0304332e-03, 1.9971544e-03, 3.0543956e-03,\n",
       "       3.8083284e-03, 3.4625607e-03, 3.2506566e-03, 3.9256662e-03,\n",
       "       4.2171190e-03, 4.5898147e-03, 5.2352231e-03, 6.4664367e-03,\n",
       "       6.6758692e-03, 4.7934796e-03, 5.9291418e-03, 6.1650863e-03,\n",
       "       5.3735846e-03, 7.5869327e-03, 3.9383895e-03, 3.4849313e-03,\n",
       "       4.6792957e-03, 2.5737151e-03, 2.1357178e-03, 1.6867518e-03,\n",
       "       2.0437280e-03, 1.8697622e-03, 1.4004208e-03, 1.6436861e-03,\n",
       "       1.5267596e-03, 1.4467445e-03, 2.3959328e-03, 1.8708305e-03,\n",
       "       1.0348761e-03, 1.4142491e-03, 1.4714134e-03, 1.2903998e-03,\n",
       "       9.8634604e-04, 6.6990429e-04, 2.2777794e-04, 1.7048635e-05],\n",
       "      dtype=float32)"
      ]
     },
     "execution_count": 5,
     "metadata": {},
     "output_type": "execute_result"
    }
   ],
   "source": [
    "# Get all .wav files and their paths in the given directory. (Recursively)\n",
    "#\n",
    "# Returns a Dictionary\n",
    "# keys = name of the .wav files\n",
    "# values = paths\n",
    "def get_all_paths(directory):\n",
    "    dirs = os.listdir(directory)\n",
    "    path_dict = {}\n",
    "\n",
    "    for i in range(len(dirs)):\n",
    "        class_dirs = directory + '/' + dirs[i]\n",
    "        wav_files = os.listdir(class_dirs)\n",
    "        \n",
    "        for j in range(len(wav_files)):\n",
    "            path = directory + '/' + dirs[i] + \"/\" + wav_files[j]\n",
    "            name = wav_files[j].split('.')\n",
    "            \n",
    "            path_dict[name[0]] = path\n",
    "        \n",
    "    return path_dict\n",
    "\n",
    "\n",
    "# Extract certain features from a given audio file.\n",
    "def extract_feature(path):\n",
    "    X, sample_rate = librosa.load(path)\n",
    "    y_harmonic, y_percussive = librosa.effects.hpss(X)\n",
    "    #stft = np.abs(librosa.stft(X))\n",
    "    mfccs = np.mean(librosa.feature.mfcc(y=X, sr=sample_rate, n_mfcc=13).T,axis=0)\n",
    "    #mfccs_delta = librosa.feature.delta(mfccs)\n",
    "    #chroma = np.mean(librosa.feature.chroma_stft(S=stft, sr=sample_rate).T,axis=0)\n",
    "    mel = np.mean(librosa.feature.melspectrogram(X, sr=sample_rate).T,axis=0)\n",
    "    #contrast = np.mean(librosa.feature.spectral_contrast(S=stft, sr=sample_rate).T,axis=0)\n",
    "    #tonnetz = np.mean(librosa.feature.tonnetz(y=librosa.effects.harmonic(X), sr=sample_rate).T,axis=0)\n",
    "    #chroma_energy = np.mean(librosa.feature.chroma_cens(y=X, sr=sample_rate).T,axis=0)\n",
    "    cent = np.mean(librosa.feature.spectral_centroid(y=X, sr=sample_rate).T,axis=0)\n",
    "    #contrast2=np.mean(librosa.feature.spectral_contrast(y=y_harmonic,sr=sample_rate).T,axis=0)\n",
    "    mfccs2 = np.mean(librosa.feature.mfcc(y=y_harmonic, sr=sample_rate, n_mfcc=13).T,axis=0)\n",
    "    zrate=librosa.feature.zero_crossing_rate(y_harmonic)\n",
    "    \n",
    "    #return mfccs,chroma,mel,contrast,tonnetz\n",
    "    return mel\n",
    "\n",
    "# EXAMPLE\n",
    "extract_feature(\"/home/ozge/Desktop/dataset/crackingfire/1-7057-A-12.wav\")"
   ]
  },
  {
   "cell_type": "markdown",
   "metadata": {},
   "source": [
    "# MAGIC BEGINS HERE"
   ]
  },
  {
   "cell_type": "code",
   "execution_count": null,
   "metadata": {},
   "outputs": [],
   "source": [
    "# Stores all the features of all given files.\n",
    "data = {}\n",
    "all_files = get_all_paths(\"/home/ozge/Desktop/dataset\")\n",
    "\n",
    "i = 0\n",
    "for key, value in all_files.items():\n",
    "    data[i] = np.append(extract_feature(value), key)\n",
    "    i = i+1\n",
    " \n",
    "\n",
    "# DICTIONARY to DATAFRAME by rows.\n",
    "#feature_df = pd.DataFrame.from_dict(data, orient='index', columns=['mf0', 'mf1', 'mf2', 'mf3', 'mf4', 'mf5', 'mf6', 'mf7', 'mf8', 'mf9', 'mf10', 'mf11', 'mf12', 'ID'])\n",
    "#feature_df = pd.DataFrame.from_dict(data, orient='index', columns=['tz0', 'tz1', 'tz2', 'tz3', 'tz4', 'tz5', 'ID'])\n",
    "feature_df = pd.DataFrame.from_dict(data, orient='index', columns=['che0', 'che1', 'che2', 'che3', 'che4', 'che5', 'che6', 'che7', 'che8', 'che9', 'che10', 'che11', 'ID'])\n",
    "feature_df.head()"
   ]
  },
  {
   "cell_type": "code",
   "execution_count": null,
   "metadata": {},
   "outputs": [],
   "source": [
    "# Get Classes of the audio files.\n",
    "class_df = pd.read_csv('/home/ozge/Desktop/dataset/classes.csv')\n",
    "class_df.head()"
   ]
  },
  {
   "cell_type": "code",
   "execution_count": null,
   "metadata": {},
   "outputs": [],
   "source": [
    "# MERGE FEATURE AND CLASS DATAFRAMES\n",
    "df = pd.merge(feature_df,class_df, on='ID')\n",
    "\n",
    "\n",
    "# NAME THE COLUMNS WITH THE SELECTED FEATURES.\n",
    "'''\n",
    "df = df.reindex(columns=['ID','Class','mf0','mf1','mf2','mf3','mf4','mf5','mf6','mf7','mf8','mf9','mf10','mf11','mf12'])\n",
    "df = df.reindex(columns=['ID','Class','ch0', 'ch1', 'ch2', 'ch3', 'ch4', 'ch5', 'ch6', 'ch7', 'ch8', 'ch9', 'ch10', 'ch11'])\n",
    "df = df.reindex(columns=['ID','Class','cnt0', 'cnt1', 'ccnt2', 'cnt3', 'cnt4', 'cnt5', 'cnt6'])\n",
    "'''\n",
    "#df = df.reindex(columns=['ID','Class','mf0','mf1','mf2','mf3','mf4','mf5','mf6','mf7','mf8','mf9','mf10','mf11','mf12' ,'mfd0', 'mfd1', 'mfd2', 'mfd3', 'mfd4', 'mfd5', 'mfd6', 'mfd7', 'mfd8', 'mfd9', 'mfd10', 'mfd11', 'mfd12'])\n",
    "df = df.reindex(columns=['ID','Class','che0', 'che1', 'che2', 'che3', 'che4', 'che5', 'che6', 'che7', 'che8', 'che9', 'che10', 'che11'])\n",
    "#df = df.reindex(columns=['ID','Class','cnt2_0', 'cnt2_1', 'cnt2_2', 'cnt2_3', 'cnt2_4', 'cnt2_5', 'cnt2_6'])\n",
    "\n",
    "\n",
    "# AND STORE IT TO A .CSV FILE.\n",
    "df.to_csv('/home/ozge/Desktop/dataset/data6.csv')\n",
    "df.head()"
   ]
  }
 ],
 "metadata": {
  "kernelspec": {
   "display_name": "Python 3",
   "language": "python",
   "name": "python3"
  },
  "language_info": {
   "codemirror_mode": {
    "name": "ipython",
    "version": 3
   },
   "file_extension": ".py",
   "mimetype": "text/x-python",
   "name": "python",
   "nbconvert_exporter": "python",
   "pygments_lexer": "ipython3",
   "version": "3.6.8"
  }
 },
 "nbformat": 4,
 "nbformat_minor": 2
}
